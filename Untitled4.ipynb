{
 "cells": [
  {
   "cell_type": "code",
   "execution_count": 1,
   "id": "f14ab5ea",
   "metadata": {},
   "outputs": [],
   "source": [
    "# import necessary modules\n",
    "%matplotlib inline\n",
    "from classy import Class\n",
    "import matplotlib\n",
    "import matplotlib.pyplot as plt\n",
    "import numpy as np\n",
    "from numpy.fft import fft, ifft , rfft, irfft , fftfreq\n",
    "from numpy import exp, log, log10, cos, sin, pi, cosh, sinh , sqrt\n",
    "from scipy.optimize import fsolve\n",
    "from scipy.special import gamma\n",
    "from scipy.special import hyp2f1\n",
    "from scipy import interpolate\n",
    "import sys,os\n",
    "from time import time\n",
    "from scipy.integrate import quad\n",
    "import scipy.integrate as integrate\n",
    "from scipy import special\n",
    "from scipy.special import factorial\n",
    "import math"
   ]
  },
  {
   "cell_type": "code",
   "execution_count": null,
   "id": "75d85e44",
   "metadata": {},
   "outputs": [],
   "source": [
    "############################################\n",
    "z_pk = 0.61\n",
    "common_settings = {# fixed LambdaCDM parameters\n",
    "                   'A_s':2.089e-9,\n",
    "                   'n_s':0.9649,\n",
    "                   'tau_reio':0.052,\n",
    "                   'omega_b':0.02237,\n",
    "                   'omega_cdm':0.12,\n",
    "                   'h':0.6736,\n",
    "                   'YHe':0.2425,\n",
    "#                     'N_eff':3.046,\n",
    "                    'N_ur':2.0328,\n",
    "                    'N_ncdm':1,\n",
    "                    'm_ncdm':0.06,\n",
    "                   # other output and precision parameters\n",
    "#                    'P_k_max_1/Mpc':100.0,\n",
    "                   'z_pk':z_pk}  \n",
    "\n",
    "M = Class()\n",
    "M.set(common_settings)\n",
    "#let's first take a look at the one-loop power spectrum for matter without IR resummation\n",
    "M.set({ 'output':'mPk',\n",
    "       'non linear':'PT',\n",
    "       'IR resummation':'No',\n",
    "       'Bias tracers':'No'\n",
    "       ,'cb':'Yes'\n",
    "      })\n",
    "M.compute()\n",
    "#now we compute all the spectra including IR resummation, RSD, \n",
    "#and AP generated for a fiducial cosmology with $\\Omega_m=0.31$ \n",
    "M1 = Class()\n",
    "M1.set(common_settings)\n",
    "M1.set({'output':'mPk',\n",
    "        'non linear':'PT',\n",
    "        'IR resummation':'Yes',\n",
    "        'Bias tracers':'Yes',\n",
    "        'cb':'Yes',\n",
    "        'RSD':'Yes',\n",
    "        'AP':'Yes',\n",
    "        'Omfid':'0.31'\n",
    "       })\n",
    "M1.compute()"
   ]
  },
  {
   "cell_type": "code",
   "execution_count": null,
   "id": "4ebfb8a9",
   "metadata": {},
   "outputs": [],
   "source": []
  }
 ],
 "metadata": {
  "kernelspec": {
   "display_name": "Python 3 (ipykernel)",
   "language": "python",
   "name": "python3"
  },
  "language_info": {
   "codemirror_mode": {
    "name": "ipython",
    "version": 3
   },
   "file_extension": ".py",
   "mimetype": "text/x-python",
   "name": "python",
   "nbconvert_exporter": "python",
   "pygments_lexer": "ipython3",
   "version": "3.9.7"
  }
 },
 "nbformat": 4,
 "nbformat_minor": 5
}
