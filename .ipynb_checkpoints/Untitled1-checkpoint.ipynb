{
 "cells": [
  {
   "cell_type": "code",
   "execution_count": 4,
   "id": "6775b41a",
   "metadata": {},
   "outputs": [],
   "source": [
    "import numpy as np\n",
    "from compute_kernels import ComputeKernels"
   ]
  },
  {
   "cell_type": "code",
   "execution_count": 5,
   "id": "7e73cabc",
   "metadata": {},
   "outputs": [],
   "source": [
    "k1 = np.logspace(np.log(3.0e-4), np.log(.005), 4, base=np.e)\n",
    "k2 = np.arange(.00501,.301,.0025)\n",
    "k3 = np.logspace(np.log(.301), np.log(10.0), 25, base=np.e)\n",
    "k = np.hstack([k1, k2, k3])"
   ]
  },
  {
   "cell_type": "code",
   "execution_count": null,
   "id": "44edc3d4",
   "metadata": {},
   "outputs": [],
   "source": []
  }
 ],
 "metadata": {
  "kernelspec": {
   "display_name": "Python 3 (ipykernel)",
   "language": "python",
   "name": "python3"
  },
  "language_info": {
   "codemirror_mode": {
    "name": "ipython",
    "version": 3
   },
   "file_extension": ".py",
   "mimetype": "text/x-python",
   "name": "python",
   "nbconvert_exporter": "python",
   "pygments_lexer": "ipython3",
   "version": "3.9.7"
  }
 },
 "nbformat": 4,
 "nbformat_minor": 5
}
