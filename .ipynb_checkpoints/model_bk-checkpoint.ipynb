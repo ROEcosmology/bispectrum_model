{
 "cells": [
  {
   "cell_type": "code",
   "execution_count": 1,
   "id": "17b02f22",
   "metadata": {},
   "outputs": [],
   "source": [
    "from classy import Class\n",
    "import numpy as np\n",
    "from powerbispectrum import ComputePowerBiSpectrum\n",
    "import powerbispectrum\n",
    "from matplotlib import pyplot as plt"
   ]
  },
  {
   "cell_type": "code",
   "execution_count": 2,
   "id": "9cd5179e",
   "metadata": {},
   "outputs": [],
   "source": [
    "h_fid = .6736\n",
    "omega_b_fid = .02237\n",
    "omega_cdm_fid = .12\n",
    "n_s_fid = .9649\n",
    "lnA_s_fid = 3.044\n",
    "\n",
    "params_cosmo = {\n",
    "            'output': 'mPk',\n",
    "            'h': h_fid,\n",
    "            'omega_b': omega_b_fid,\n",
    "            'omega_cdm': omega_cdm_fid,\n",
    "            'n_s': n_s_fid,\n",
    "            'ln10^{10}A_s': lnA_s_fid,\n",
    "            'tau_reio': 0.0544,\n",
    "            'N_ncdm': 1.,\n",
    "            'm_ncdm': 0.06,\n",
    "            'N_ur': 2.0328,\n",
    "            'z_max_pk': 3.,\n",
    "            'P_k_max_h/Mpc': 50.,\n",
    "            }\n",
    "z = .8"
   ]
  },
  {
   "cell_type": "code",
   "execution_count": 3,
   "id": "377578ba",
   "metadata": {},
   "outputs": [],
   "source": [
    "cl = ComputePowerBiSpectrum(params_cosmo, z)"
   ]
  },
  {
   "cell_type": "code",
   "execution_count": 4,
   "id": "3c797d7f",
   "metadata": {},
   "outputs": [],
   "source": [
    "cl.initial_power_spectrum()"
   ]
  },
  {
   "cell_type": "code",
   "execution_count": 5,
   "id": "49c5b617",
   "metadata": {},
   "outputs": [],
   "source": [
    "kbin = np.linspace(0.01, 0.3, 30)\n",
    "ell1 = 0\n",
    "ell2 = 0\n",
    "ELL = 0"
   ]
  },
  {
   "cell_type": "code",
   "execution_count": null,
   "id": "3bfff9f6",
   "metadata": {},
   "outputs": [
    {
     "name": "stdout",
     "output_type": "stream",
     "text": [
      "k1 =  0.01 h/Mpc\n",
      "k1 =  0.019999999999999997 h/Mpc\n",
      "k1 =  0.03 h/Mpc\n",
      "k1 =  0.039999999999999994 h/Mpc\n",
      "k1 =  0.049999999999999996 h/Mpc\n",
      "k1 =  0.05999999999999999 h/Mpc\n",
      "k1 =  0.06999999999999999 h/Mpc\n",
      "k1 =  0.07999999999999999 h/Mpc\n",
      "k1 =  0.08999999999999998 h/Mpc\n",
      "k1 =  0.09999999999999998 h/Mpc\n",
      "k1 =  0.10999999999999997 h/Mpc\n",
      "k1 =  0.11999999999999998 h/Mpc\n",
      "k1 =  0.12999999999999998 h/Mpc\n",
      "k1 =  0.13999999999999999 h/Mpc\n",
      "k1 =  0.15 h/Mpc\n",
      "k1 =  0.15999999999999998 h/Mpc\n",
      "k1 =  0.16999999999999998 h/Mpc\n",
      "k1 =  0.18 h/Mpc\n",
      "k1 =  0.18999999999999997 h/Mpc\n",
      "k1 =  0.19999999999999998 h/Mpc\n",
      "k1 =  0.20999999999999996 h/Mpc\n",
      "k1 =  0.21999999999999997 h/Mpc\n",
      "k1 =  0.22999999999999998 h/Mpc\n",
      "k1 =  0.23999999999999996 h/Mpc\n"
     ]
    }
   ],
   "source": [
    "cl.calc_B(\n",
    "        kbin, ell1, ell2, ELL,\n",
    "        alpha_perp=1, alpha_parallel=1, b1=2, b2=0, bG2=0, c1=0, c2=0, knl=.3,\n",
    "        Pshot=0, Bshot=0,\n",
    "        integrand='tree',\n",
    "        ks=.05,\n",
    "    )"
   ]
  },
  {
   "cell_type": "code",
   "execution_count": null,
   "id": "1c94b2d6",
   "metadata": {},
   "outputs": [],
   "source": [
    "plt.plot(np.diag(full_bk['kbin1']),np.diag(full_bk['kbin1'])**2*np.diag(full_bk['K']))"
   ]
  },
  {
   "cell_type": "code",
   "execution_count": null,
   "id": "754fb466",
   "metadata": {},
   "outputs": [],
   "source": [
    "cl.calc_B_diag(\n",
    "        kbin, ell1, ell2, ELL,\n",
    "        alpha_perp=1, alpha_parallel=1, b1=2, b2=0, bG2=0, c1=0, c2=0, knl=.3,\n",
    "        Pshot=0, Bshot=0,\n",
    "        integrand='tree',\n",
    "        ks=.05,\n",
    "    )"
   ]
  },
  {
   "cell_type": "code",
   "execution_count": null,
   "id": "7ebf279f",
   "metadata": {},
   "outputs": [],
   "source": [
    "plt.plot(diag_bk['kbin'],diag_bk['kbin']**2*diag_bk['K'])"
   ]
  },
  {
   "cell_type": "code",
   "execution_count": null,
   "id": "a1c19eb3",
   "metadata": {},
   "outputs": [],
   "source": []
  }
 ],
 "metadata": {
  "kernelspec": {
   "display_name": "Python (cpt)",
   "language": "python",
   "name": "cpt"
  },
  "language_info": {
   "codemirror_mode": {
    "name": "ipython",
    "version": 3
   },
   "file_extension": ".py",
   "mimetype": "text/x-python",
   "name": "python",
   "nbconvert_exporter": "python",
   "pygments_lexer": "ipython3",
   "version": "3.9.7"
  }
 },
 "nbformat": 4,
 "nbformat_minor": 5
}
