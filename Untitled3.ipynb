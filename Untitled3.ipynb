{
 "cells": [
  {
   "cell_type": "code",
   "execution_count": 1,
   "id": "4d75ea87",
   "metadata": {},
   "outputs": [
    {
     "data": {
      "text/plain": [
       "'/home/rneveux/bispectrum/theory/powerbispectrum.py'"
      ]
     },
     "execution_count": 1,
     "metadata": {},
     "output_type": "execute_result"
    }
   ],
   "source": [
    "import numpy as np\n",
    "from matplotlib import pyplot as plt\n",
    "from powerbispectrum import ComputePowerBiSpectrum\n",
    "import powerbispectrum\n",
    "powerbispectrum.__file__"
   ]
  },
  {
   "cell_type": "code",
   "execution_count": 2,
   "id": "348cfe27",
   "metadata": {},
   "outputs": [],
   "source": [
    "'''params_cosmo = {'output': 'tCl mPk','z_max_pk': 3.,'P_k_max_h/Mpc': 50.,\n",
    "                'omega_cdm':cosmo[0],'omega_b':cosmo[1],'h':cosmo[2],\n",
    "                'ln10^{10}A_s':cosmo[3],'n_s':cosmo[4]}'''\n",
    "params_cosmo = {# fixed LambdaCDM parameters\n",
    "                   'A_s':2.089e-9,\n",
    "                   'n_s':0.9649,\n",
    "                   'tau_reio':0.052,\n",
    "                   'omega_b':0.02237,\n",
    "                   'omega_cdm':0.12,\n",
    "                   'h':0.6736,\n",
    "                   'YHe':0.2425,\n",
    "#                     'N_eff':3.046,\n",
    "                    'N_ur':2.0328,\n",
    "                    'N_ncdm':1,\n",
    "                    'm_ncdm':0.06,\n",
    "                   # other output and precision parameters\n",
    "                    'output': 'tCl mPk','z_max_pk': 3.,\n",
    "                    'P_k_max_h/Mpc': 100.,}"
   ]
  },
  {
   "cell_type": "code",
   "execution_count": 3,
   "id": "dc6aae4f",
   "metadata": {},
   "outputs": [],
   "source": [
    "c=ComputePowerBiSpectrum(params_cosmo,.61)"
   ]
  },
  {
   "cell_type": "code",
   "execution_count": 4,
   "id": "b33b98b6",
   "metadata": {},
   "outputs": [
    {
     "ename": "AttributeError",
     "evalue": "'ComputePowerBiSpectrum' object has no attribute 'intial_power_spectrum'",
     "output_type": "error",
     "traceback": [
      "\u001b[0;31m---------------------------------------------------------------------------\u001b[0m",
      "\u001b[0;31mAttributeError\u001b[0m                            Traceback (most recent call last)",
      "\u001b[0;32m/tmp/ipykernel_1439617/2204712954.py\u001b[0m in \u001b[0;36m<module>\u001b[0;34m\u001b[0m\n\u001b[0;32m----> 1\u001b[0;31m \u001b[0mc\u001b[0m\u001b[0;34m.\u001b[0m\u001b[0mintial_power_spectrum\u001b[0m\u001b[0;34m(\u001b[0m\u001b[0;34m)\u001b[0m\u001b[0;34m\u001b[0m\u001b[0;34m\u001b[0m\u001b[0m\n\u001b[0m",
      "\u001b[0;31mAttributeError\u001b[0m: 'ComputePowerBiSpectrum' object has no attribute 'intial_power_spectrum'"
     ]
    }
   ],
   "source": [
    "c.intial_power_spectrum()"
   ]
  },
  {
   "cell_type": "code",
   "execution_count": null,
   "id": "f024fd8b",
   "metadata": {},
   "outputs": [],
   "source": [
    "klog = np.logspace(-3,1,1000)"
   ]
  },
  {
   "cell_type": "code",
   "execution_count": null,
   "id": "8352d11f",
   "metadata": {},
   "outputs": [],
   "source": [
    "c.calc_P(\n",
    "            klog, 0,\n",
    "            alpha_perp=1, alpha_parallel=1, b1=1, b2=0, bG2=0, bGamma3=0,\n",
    "            c0=0, c1=0, c2=0, knl=.3, real_space=True,\n",
    "            integrand='tree_noIR',\n",
    "            ks=.05\n",
    "        )\n",
    "pk_lin = c.PK['K']"
   ]
  },
  {
   "cell_type": "code",
   "execution_count": null,
   "id": "99f59dfb",
   "metadata": {},
   "outputs": [],
   "source": [
    "c.calc_P(\n",
    "            klog, 0,\n",
    "            alpha_perp=1, alpha_parallel=1, b1=1, b2=0, bG2=0, bGamma3=0,\n",
    "            c0=-.1, c1=0, c2=0, knl=.3, real_space=True,\n",
    "            integrand='counterterm_noIR',\n",
    "            ks=.05\n",
    "        )\n",
    "pk_ct = c.PK['K']"
   ]
  },
  {
   "cell_type": "code",
   "execution_count": null,
   "id": "dd4bc6f1",
   "metadata": {},
   "outputs": [],
   "source": [
    "c.calc_P(\n",
    "            klog, 0,\n",
    "            alpha_perp=1, alpha_parallel=1, b1=1, b2=0, bG2=0., bGamma3=-0.,\n",
    "            c0=0, c1=0, c2=0, knl=.3, real_space=True,\n",
    "            integrand='1loop_noIR',\n",
    "            ks=.05\n",
    "        )\n",
    "pk_1loop_mm = c.PK['K']"
   ]
  },
  {
   "cell_type": "code",
   "execution_count": null,
   "id": "2f1a16af",
   "metadata": {},
   "outputs": [],
   "source": [
    "plt.plot(klog,pk_lin,label='tree')\n",
    "plt.plot(klog,np.abs(pk_ct),label='counterterm')\n",
    "plt.plot(klog,np.abs(pk_1loop_mm),label='1loop')\n",
    "pk_tot = pk_lin+pk_ct+pk_1loop_mm\n",
    "plt.plot(klog,pk_tot,label='sum')\n",
    "plt.legend()\n",
    "plt.yscale('log')\n",
    "plt.xscale('log')\n",
    "plt.xlim([1.e-3,1])\n",
    "plt.ylim([1,5e4])\n",
    "plt.show()"
   ]
  },
  {
   "cell_type": "code",
   "execution_count": null,
   "id": "321dcce6",
   "metadata": {},
   "outputs": [],
   "source": [
    "klin = np.linspace(.02,.5,100)"
   ]
  },
  {
   "cell_type": "code",
   "execution_count": null,
   "id": "0ec119a2",
   "metadata": {},
   "outputs": [],
   "source": [
    "c.calc_P(\n",
    "            klin, 0,\n",
    "            alpha_perp=1, alpha_parallel=1, b1=1, b2=0, bG2=0, bGamma3=0,\n",
    "            c0=0, c1=0, c2=0, knl=.3, real_space=True,\n",
    "            integrand='tree_noIR',\n",
    "            ks=.05\n",
    "        )\n",
    "pk_lin_klin = c.PK['K']"
   ]
  },
  {
   "cell_type": "code",
   "execution_count": null,
   "id": "a2bc6b7e",
   "metadata": {},
   "outputs": [],
   "source": [
    "c.calc_P(\n",
    "            klin, 0,\n",
    "            alpha_perp=1, alpha_parallel=1, b1=1, b2=0, bG2=0, bGamma3=0,\n",
    "            c0=-.1, c1=0, c2=0, knl=.3, real_space=True,\n",
    "            integrand='counterterm_noIR',\n",
    "            ks=.05\n",
    "        )\n",
    "pk_ct_klin = c.PK['K']"
   ]
  },
  {
   "cell_type": "code",
   "execution_count": null,
   "id": "84376603",
   "metadata": {},
   "outputs": [],
   "source": [
    "c.calc_P(\n",
    "            klin, 0,\n",
    "            alpha_perp=1, alpha_parallel=1, b1=1, b2=0, bG2=0., bGamma3=-0.,\n",
    "            c0=0, c1=0, c2=0, knl=.3, real_space=True,\n",
    "            integrand='1loop_noIR',\n",
    "            ks=.05\n",
    "        )\n",
    "pk_1loop_mm_klin = c.PK['K']"
   ]
  },
  {
   "cell_type": "code",
   "execution_count": null,
   "id": "b107b9d5",
   "metadata": {},
   "outputs": [],
   "source": [
    "%%time\n",
    "c.calc_P(\n",
    "            klin, 0,\n",
    "            alpha_perp=1, alpha_parallel=1, b1=1, b2=0, bG2=0, bGamma3=0,\n",
    "            c0=0, c1=0, c2=0, knl=.3, real_space=True,\n",
    "            integrand='tree',\n",
    "            ks=.05\n",
    "        )\n",
    "pk_lin_damp_klin = c.PK['K']"
   ]
  },
  {
   "cell_type": "code",
   "execution_count": null,
   "id": "e22a4509",
   "metadata": {},
   "outputs": [],
   "source": [
    "%%time\n",
    "c.calc_P(\n",
    "            klin, 0,\n",
    "            alpha_perp=1, alpha_parallel=1, b1=1, b2=0, bG2=0, bGamma3=0,\n",
    "            c0=-.1, c1=0, c2=0, knl=.3, real_space=True,\n",
    "            integrand='counterterm',\n",
    "            ks=.05\n",
    "        )\n",
    "pk_ct_damp_klin = c.PK['K']"
   ]
  },
  {
   "cell_type": "code",
   "execution_count": null,
   "id": "e8dbeea3",
   "metadata": {},
   "outputs": [],
   "source": [
    "%%time\n",
    "c.calc_P(\n",
    "            klin, 0,\n",
    "            alpha_perp=1, alpha_parallel=1, b1=1, b2=0, bG2=0., bGamma3=-0.,\n",
    "            c0=0, c1=0, c2=0, knl=.3, real_space=True,\n",
    "            integrand='1loop',\n",
    "            ks=.05\n",
    "        )\n",
    "pk_1loop_mm_damp_klin = c.PK['K']"
   ]
  },
  {
   "cell_type": "code",
   "execution_count": null,
   "id": "efae6af6",
   "metadata": {},
   "outputs": [],
   "source": [
    "plt.plot(klin,pk_lin_klin*klin**1.5,label='tree')\n",
    "pk_tot_mm = pk_lin_klin+pk_ct_klin+pk_1loop_mm_klin\n",
    "plt.plot(klin,pk_tot*klin**1.5,label='sum')\n",
    "plt.legend()\n",
    "plt.xlim([1.e-3,.5])\n",
    "plt.ylim([55,125])\n",
    "plt.show()"
   ]
  },
  {
   "cell_type": "code",
   "execution_count": null,
   "id": "019a3f9e",
   "metadata": {},
   "outputs": [],
   "source": [
    "c.calc_P(\n",
    "            klin, 0,\n",
    "            alpha_perp=1, alpha_parallel=1, b1=2, b2=-1, bG2=.1, bGamma3=-.1,\n",
    "            c0=-.1, c1=0, c2=0, knl=.3, real_space=True,\n",
    "            integrand='tree',\n",
    "            ks=.05\n",
    "        )\n",
    "pk_gg_lin_damp_klin = c.PK['K']"
   ]
  },
  {
   "cell_type": "code",
   "execution_count": null,
   "id": "6ba2758c",
   "metadata": {},
   "outputs": [],
   "source": [
    "c.calc_P(\n",
    "            klin, 0,\n",
    "            alpha_perp=1, alpha_parallel=1, b1=2, b2=-1, bG2=.1, bGamma3=-.1,\n",
    "            c0=-.1, c1=0, c2=0, knl=.3, real_space=True,\n",
    "            integrand='counterterm',\n",
    "            ks=.05\n",
    "        )\n",
    "pk_gg_ct_damp_klin = c.PK['K']"
   ]
  },
  {
   "cell_type": "code",
   "execution_count": null,
   "id": "6a5d1160",
   "metadata": {},
   "outputs": [],
   "source": [
    "c.calc_P(\n",
    "            klin, 0,\n",
    "            alpha_perp=1, alpha_parallel=1, b1=2, b2=-1, bG2=.1, bGamma3=-.1,\n",
    "            c0=-.1, c1=0, c2=0, knl=.3, real_space=True,\n",
    "            integrand='1loop',\n",
    "            ks=.05\n",
    "        )\n",
    "pk_gg_1loop_damp_klin = c.PK['K']"
   ]
  },
  {
   "cell_type": "code",
   "execution_count": null,
   "id": "7e09a0a4",
   "metadata": {},
   "outputs": [],
   "source": [
    "c.calc_P(\n",
    "            klin, 0,\n",
    "            alpha_perp=1, alpha_parallel=1, b1=2, b2=-1, bG2=.1, bGamma3=-.1,\n",
    "            c0=-.1, c1=0, c2=0, knl=.3, real_space=True,\n",
    "            integrand='tree_gm',\n",
    "            ks=.05\n",
    "        )\n",
    "pk_gm_lin_damp_klin = c.PK['K']"
   ]
  },
  {
   "cell_type": "code",
   "execution_count": null,
   "id": "830e3ab3",
   "metadata": {},
   "outputs": [],
   "source": [
    "c.calc_P(\n",
    "            klin, 0,\n",
    "            alpha_perp=1, alpha_parallel=1, b1=2, b2=-1, bG2=.1, bGamma3=-.1,\n",
    "            c0=-.1, c1=0, c2=0, knl=.3, real_space=True,\n",
    "            integrand='counterterm_gm',\n",
    "            ks=.05\n",
    "        )\n",
    "pk_gm_ct_damp_klin = c.PK['K']"
   ]
  },
  {
   "cell_type": "code",
   "execution_count": null,
   "id": "6dc4a867",
   "metadata": {},
   "outputs": [],
   "source": [
    "c.calc_P(\n",
    "            klin, 0,\n",
    "            alpha_perp=1, alpha_parallel=1, b1=2, b2=-1, bG2=.1, bGamma3=-.1,\n",
    "            c0=-.1, c1=0, c2=0, knl=.3, real_space=True,\n",
    "            integrand='1loop_gm',\n",
    "            ks=.05\n",
    "        )\n",
    "pk_gm_1loop_damp_klin = c.PK['K']"
   ]
  },
  {
   "cell_type": "code",
   "execution_count": null,
   "id": "d93f83d1",
   "metadata": {},
   "outputs": [],
   "source": [
    "pk_tot_gm = pk_gm_lin_damp_klin+pk_gm_ct_damp_klin+pk_gm_1loop_damp_klin\n",
    "pk_tot_gg = pk_gg_lin_damp_klin+pk_gg_ct_damp_klin+pk_gg_1loop_damp_klin\n",
    "plt.plot(klin,pk_tot_mm*klin,label='mm')\n",
    "plt.plot(klin,pk_tot_gm*klin,label='gm')\n",
    "plt.plot(klin,pk_tot_gg*klin,label='gg')\n",
    "plt.legend()\n",
    "plt.xlim([1.e-3,0.3])\n",
    "plt.ylim([1,2200])\n",
    "plt.show()"
   ]
  },
  {
   "cell_type": "code",
   "execution_count": null,
   "id": "bab01c60",
   "metadata": {},
   "outputs": [],
   "source": [
    "c.calc_P(\n",
    "            klin, 2,\n",
    "            alpha_perp=1, alpha_parallel=1, b1=1, b2=0, bG2=0, bGamma3=0,\n",
    "            c0=0, c1=0, c2=0, knl=.3, real_space=True,\n",
    "            integrand='tree',\n",
    "            ks=.05\n",
    "        )\n",
    "pk_lin_damp_klin_ell2 = c.PK['K']"
   ]
  },
  {
   "cell_type": "code",
   "execution_count": null,
   "id": "eaeea0ac",
   "metadata": {},
   "outputs": [],
   "source": [
    "c.calc_P(\n",
    "            klin, 2,\n",
    "            alpha_perp=1, alpha_parallel=1, b1=1, b2=0, bG2=0, bGamma3=0,\n",
    "            c0=-.1, c1=0, c2=0, knl=.3, real_space=True,\n",
    "            integrand='counterterm',\n",
    "            ks=.05\n",
    "        )\n",
    "pk_ct_damp_klin_ell2 = c.PK['K']"
   ]
  },
  {
   "cell_type": "code",
   "execution_count": null,
   "id": "b53eeb6d",
   "metadata": {},
   "outputs": [],
   "source": [
    "c.calc_P(\n",
    "            klin, 2,\n",
    "            alpha_perp=1, alpha_parallel=1, b1=1, b2=0, bG2=0., bGamma3=-0.,\n",
    "            c0=0, c1=0, c2=0, knl=.3, real_space=True,\n",
    "            integrand='1loop',\n",
    "            ks=.05\n",
    "        )\n",
    "pk_1loop_mm_damp_klin_ell2 = c.PK['K']"
   ]
  },
  {
   "cell_type": "code",
   "execution_count": null,
   "id": "1b6cff4d",
   "metadata": {},
   "outputs": [],
   "source": [
    "c.calc_P(\n",
    "            klin, 4,\n",
    "            alpha_perp=1, alpha_parallel=1, b1=1, b2=0, bG2=0, bGamma3=0,\n",
    "            c0=0, c1=0, c2=0, knl=.3, real_space=True,\n",
    "            integrand='tree',\n",
    "            ks=.05\n",
    "        )\n",
    "pk_lin_damp_klin_ell4 = c.PK['K']"
   ]
  },
  {
   "cell_type": "code",
   "execution_count": null,
   "id": "1965ec0b",
   "metadata": {},
   "outputs": [],
   "source": [
    "c.calc_P(\n",
    "            klin, 4,\n",
    "            alpha_perp=1, alpha_parallel=1, b1=1, b2=0, bG2=0, bGamma3=0,\n",
    "            c0=-.1, c1=0, c2=0, knl=.3, real_space=True,\n",
    "            integrand='counterterm',\n",
    "            ks=.05\n",
    "        )\n",
    "pk_ct_damp_klin_ell4 = c.PK['K']"
   ]
  },
  {
   "cell_type": "code",
   "execution_count": null,
   "id": "eeff41c1",
   "metadata": {},
   "outputs": [],
   "source": [
    "c.calc_P(\n",
    "            klin, 4,\n",
    "            alpha_perp=1, alpha_parallel=1, b1=1, b2=0, bG2=0., bGamma3=-0.,\n",
    "            c0=0, c1=0, c2=0, knl=.3, real_space=True,\n",
    "            integrand='1loop',\n",
    "            ks=.05\n",
    "        )\n",
    "pk_1loop_mm_damp_klin_ell4 = c.PK['K']"
   ]
  },
  {
   "cell_type": "code",
   "execution_count": null,
   "id": "5b026687",
   "metadata": {},
   "outputs": [],
   "source": [
    "pk_tot_mm_ell2 = pk_lin_damp_klin_ell2+pk_ct_damp_klin_ell2+pk_1loop_mm_damp_klin_ell2\n",
    "pk_tot_mm_ell4 = pk_lin_damp_klin_ell4+pk_ct_damp_klin_ell4+pk_1loop_mm_damp_klin_ell4\n",
    "plt.plot(klin,pk_tot_mm*klin,label='0')\n",
    "plt.plot(klin,pk_tot_mm_ell2*klin,label='2')\n",
    "plt.plot(klin,pk_tot_mm_ell4*klin,label='4')\n",
    "plt.legend()\n",
    "plt.xlim([1.e-3,0.3])\n",
    "plt.ylim([1,2200])\n",
    "plt.show()"
   ]
  },
  {
   "cell_type": "code",
   "execution_count": null,
   "id": "2fd0e93c",
   "metadata": {
    "scrolled": true
   },
   "outputs": [],
   "source": [
    "b_tree = ['b1_b1','b1_f','f_f']\n",
    "b_ct = [\"c0_b1\",\"c0_f\",\"c1_b1\",\"c1_f\",\"c2_b1\",\"c2_f\"]\n",
    "b_1loop_22 = [\"b2_b2\",'b2_b2_norm',\"b2_bG2\",\"b1_b2\",\"b2_f\",\"b1_b2_f\",\"b2_f_f\",\"bG2_bG2\",\"b1_bG2\",\"bG2_f\",\n",
    "              \"b1_bG2_f\",\"bG2_f_f\",\"b1_b1\",\"b1_f\",\"b1_b1_f\",\"b1_f_f\",\"f_f\",\"f_f_f\",\"b1_b1_f_f\",\n",
    "              \"b1_f_f_f\",\"f_f_f_f\"]\n",
    "#b_1loop_13 = [\"b1_b3\",\"b1_bG3\",\"b1_bG2d\",\"b1_bGamma3\",\"b1_b1\",\"b1_f\",\"b1_b1_f_f\",\"b1_f_f_f\",\n",
    "#              \"b1_b1_f\",\"b1_f_f\",\"b1_b2\",\"b1_bG2\",\"b1_b2_f\",\"b1_bG2_f\",\"b3_f\",\"bG3_f\",\"bG2d_f\",\n",
    "#              \"bGamma3_f\",\"f_f\",\"f_f_f_f\",\"f_f_f\",\"b2_f\",\"bG2_f\",\"b2_f_f\",\"bG2_f_f\"]\n",
    "b_1loop_13 = [\"b1_bGamma3\",\"b1_b1\",\"b1_f\",\"b1_b1_f_f\",\"b1_f_f_f\",\n",
    "              \"b1_b1_f\",\"b1_f_f\",\"b1_bG2\",\n",
    "              \"bGamma3_f\",\"f_f\",\"f_f_f_f\",\"f_f_f\",\"bG2_f\"]\n",
    "\n",
    "for b in b_tree:\n",
    "    c.kernel_computation_Pk(b, k, 0, integrand='tree')\n",
    "    print(b)\n",
    "    plt.plot(c.PK['kbin'],c.PK['K'])\n",
    "    plt.plot(c.PK['kbin'],-c.PK['K'],linestyle=':')\n",
    "    plt.xlim(1e-3,1)\n",
    "    plt.ylim(1,1e4)\n",
    "    plt.xscale('log')\n",
    "    plt.yscale('log')\n",
    "    plt.show()\n",
    "for b in b_ct:\n",
    "    c.kernel_computation_Pk(b, k, 0, integrand='counterterm')\n",
    "    print(b)\n",
    "    plt.plot(c.PK['kbin'],c.PK['K'])\n",
    "    plt.plot(c.PK['kbin'],-c.PK['K'],linestyle=':')\n",
    "    plt.xlim(1e-3,1)\n",
    "    plt.ylim(1,1e4)\n",
    "    plt.xscale('log')\n",
    "    plt.yscale('log')\n",
    "    plt.show()\n",
    "pk = np.zeros(len(k))\n",
    "for b in b_1loop_22:\n",
    "    c.kernel_computation_Pk(b, k, 0, integrand='1loop_22')\n",
    "    print(b)\n",
    "    tmppk = c.PK['K']\n",
    "    if b=='b2_b2':\n",
    "        c.kernel_computation_Pk('b2_b2_norm', k, 0, integrand='1loop_22')\n",
    "    c.PK['K'] += tmppk\n",
    "    plt.plot(c.PK['kbin'],c.PK['K'])\n",
    "    plt.plot(c.PK['kbin'],-c.PK['K'],linestyle=':')\n",
    "    plt.xlim(1e-3,1)\n",
    "    plt.ylim(1,1e4)\n",
    "    plt.xscale('log')\n",
    "    plt.yscale('log')\n",
    "    plt.show()\n",
    "for b in b_1loop_13:\n",
    "    c.kernel_computation_Pk(b, k, 0, integrand='1loop_13')\n",
    "    print(b)\n",
    "    plt.plot(c.PK['kbin'],c.PK['K'])\n",
    "    plt.plot(c.PK['kbin'],-c.PK['K'],linestyle=':')\n",
    "    plt.xlim(1e-3,1)\n",
    "    plt.ylim(1,1e4)\n",
    "    plt.xscale('log')\n",
    "    plt.yscale('log')\n",
    "    plt.show()\n",
    "plt.xlim(1e-3,1)\n",
    "plt.ylim(1,1e4)\n",
    "plt.xscale('log')\n",
    "plt.yscale('log')\n",
    "plt.show()"
   ]
  },
  {
   "cell_type": "code",
   "execution_count": null,
   "id": "ea593cce",
   "metadata": {},
   "outputs": [],
   "source": [
    "c.calc_P(\n",
    "            k, 0,\n",
    "            alpha_perp=1, alpha_parallel=1, b1=2, b2=0, bG2=0, b3=0, bG3=0, bG2d=0, bGamma3=0,\n",
    "            c0=0, c1=0, c2=0, knl=.3,\n",
    "            integrand='tree',\n",
    "            ks=.05\n",
    "        )\n",
    "plt.plot(c.PK['kbin'],c.PK['K'],label='tree')\n",
    "pk_kern = np.zeros_like(c.PK['kbin'])\n",
    "for b in b_tree:\n",
    "    bias = 1\n",
    "    c.kernel_computation_Pk(b, k, 0, integrand='tree')\n",
    "    if 'b1' in b: bias *= 2**b.count('b1')\n",
    "    pk_kern += c.PK['K']*bias\n",
    "plt.plot(c.PK['kbin'],pk_kern)\n",
    "plt.xscale('log')\n",
    "plt.yscale('log')\n",
    "plt.show()"
   ]
  },
  {
   "cell_type": "code",
   "execution_count": null,
   "id": "4cc5c95d",
   "metadata": {},
   "outputs": [],
   "source": [
    "c.calc_P(\n",
    "            k, 0,\n",
    "            alpha_perp=1, alpha_parallel=1, b1=2, b2=0, bG2=0, b3=0, bG3=0, bG2d=0, bGamma3=0,\n",
    "            c0=2, c1=1, c2=-1, knl=.3,\n",
    "            integrand='counterterm',\n",
    "            ks=.05\n",
    "        )\n",
    "plt.plot(c.PK['kbin'],c.PK['K'],label='tree')\n",
    "pk_kern = np.zeros_like(c.PK['kbin'])\n",
    "for b in b_ct:\n",
    "    bias = 1\n",
    "    c.kernel_computation_Pk(b, k, 0, integrand='counterterm')\n",
    "    if 'b1' in b: bias *= 2\n",
    "    if 'c0' in b: bias *= 2\n",
    "    if 'c1' in b: bias *= 1\n",
    "    if 'c2' in b: bias *= -1\n",
    "    pk_kern += c.PK['K']*bias\n",
    "plt.plot(c.PK['kbin'],pk_kern)\n",
    "plt.xscale('log')\n",
    "plt.yscale('log')\n",
    "plt.show()"
   ]
  },
  {
   "cell_type": "code",
   "execution_count": null,
   "id": "36f14cda",
   "metadata": {},
   "outputs": [],
   "source": [
    "b_tree = ['b1_b1','b1_f','f_f']\n",
    "b_ct = [\"c0_b1\",\"c0_f\",\"c1_b1\",\"c1_f\",\"c2_b1\",\"c2_f\"]\n",
    "b_1loop_22 = [\"b2_b2\",'b2_b2_norm',\"b2_bG2\",\"b1_b2\",\"b2_f\",\"b1_b2_f\",\"b2_f_f\",\"bG2_bG2\",\"b1_bG2\",\"bG2_f\",\n",
    "              \"b1_bG2_f\",\"bG2_f_f\",\"b1_b1\",\"b1_f\",\"b1_b1_f\",\"b1_f_f\",\"f_f\",\"f_f_f\",\"b1_b1_f_f\",\n",
    "              \"b1_f_f_f\",\"f_f_f_f\"]\n",
    "#b_1loop_13 = [\"b1_b3\",\"b1_bG3\",\"b1_bG2d\",\"b1_bGamma3\",\"b1_b1\",\"b1_f\",\"b1_b1_f_f\",\"b1_f_f_f\",\n",
    "#              \"b1_b1_f\",\"b1_f_f\",\"b1_b2\",\"b1_bG2\",\"b1_b2_f\",\"b1_bG2_f\",\"b3_f\",\"bG3_f\",\"bG2d_f\",\n",
    "#              \"bGamma3_f\",\"f_f\",\"f_f_f_f\",\"f_f_f\",\"b2_f\",\"bG2_f\",\"b2_f_f\",\"bG2_f_f\"]\n",
    "b_1loop_13 = [\"b1_bGamma3\",\"b1_b1\",\"b1_f\",\"b1_b1_f_f\",\"b1_f_f_f\",\n",
    "              \"b1_b1_f\",\"b1_f_f\",\"b1_bG2\",\n",
    "              \"bGamma3_f\",\"f_f\",\"f_f_f_f\",\"f_f_f\",\"bG2_f\"]\n",
    "\n",
    "c.calc_P(\n",
    "            k, 0,\n",
    "            alpha_perp=1, alpha_parallel=1, b1=2, b2=-1, bG2=0.1, b3=0, bG3=0, bG2d=0, bGamma3=-.1,\n",
    "            c0=0, c1=0, c2=0, knl=.3,\n",
    "            integrand='1loop',\n",
    "            ks=.05\n",
    "        )\n",
    "plt.plot(c.PK['kbin'],c.PK['K'],label='1loop')\n",
    "pk_kern = np.zeros_like(c.PK['kbin'])\n",
    "for b in b_1loop_22:\n",
    "    bias = 1\n",
    "    c.kernel_computation_Pk(b, k, 0, integrand='1loop_22')\n",
    "    if 'b1' in b: bias *= 2**b.count('b1')\n",
    "    if 'b2' in b: bias *= -1**b.count('b2')\n",
    "    if 'bG2' in b: bias *= .1**b.count('bG2')\n",
    "    pk_kern += c.PK['K']*bias\n",
    "    print(b)\n",
    "    print(np.mean(c.PK['K']))\n",
    "for b in b_1loop_13:\n",
    "    bias = 1\n",
    "    c.kernel_computation_Pk(b, k, 0, integrand='1loop_13')\n",
    "    if 'b1' in b: bias *= 2**b.count('b1')\n",
    "    if 'b2' in b: bias *= -1\n",
    "    if 'bG2' in b: bias *= .1\n",
    "    if 'bGamma3' in b: bias *= -.1\n",
    "    pk_kern += c.PK['K']*bias\n",
    "    print(b)\n",
    "    print(np.mean(c.PK['K']))\n",
    "plt.plot(c.PK['kbin'],pk_kern)\n",
    "plt.xscale('log')\n",
    "plt.yscale('log')\n",
    "plt.show()"
   ]
  },
  {
   "cell_type": "code",
   "execution_count": null,
   "id": "08558634",
   "metadata": {},
   "outputs": [],
   "source": [
    "c.kernel_computation_Pk('b2_b2_norm', k, 0, integrand='1loop_22')\n",
    "plt.plot(k,np.ones_like(k)*c.PK['K'][0])\n",
    "plt.plot(k,-np.ones_like(k)*c.PK['K'][0],linestyle=':')\n",
    "plt.xlim(1e-3,1)\n",
    "plt.ylim(1,1e4)\n",
    "plt.xscale('log')\n",
    "plt.yscale('log')\n",
    "plt.show()"
   ]
  },
  {
   "cell_type": "code",
   "execution_count": null,
   "id": "6edceeb6",
   "metadata": {},
   "outputs": [],
   "source": [
    "plt.plot(c.PK['kbin'],pk_kern)\n",
    "plt.plot(c.PK['kbin'],-pk_kern)\n",
    "plt.xscale('log')\n",
    "plt.yscale('log')"
   ]
  },
  {
   "cell_type": "code",
   "execution_count": null,
   "id": "5f5ccd3d",
   "metadata": {},
   "outputs": [],
   "source": [
    "c.calc_P(\n",
    "            k, 0,\n",
    "            alpha_perp=1, alpha_parallel=1, b1=2, b2=-1, bG2=0.1, b3=0, bG3=0, bG2d=0, bGamma3=-.1,\n",
    "            c0=0, c1=0, c2=0, knl=.3,\n",
    "            integrand='1loop',\n",
    "            ks=.05\n",
    "        )\n",
    "plt.plot(c.PK['kbin'],c.PK['K'],label='1loop',color='b')\n",
    "plt.plot(c.PK['kbin'],-c.PK['K'],label='1loop',color='b',linestyle=':')\n",
    "plt.plot(c.PK['kbin'],pk_kern,color='r')\n",
    "plt.plot(c.PK['kbin'],-pk_kern,color='r',linestyle=':')\n",
    "plt.xscale('log')\n",
    "plt.yscale('log')"
   ]
  },
  {
   "cell_type": "code",
   "execution_count": null,
   "id": "ca7d0da2",
   "metadata": {},
   "outputs": [],
   "source": []
  }
 ],
 "metadata": {
  "kernelspec": {
   "display_name": "Python 3 (ipykernel)",
   "language": "python",
   "name": "python3"
  },
  "language_info": {
   "codemirror_mode": {
    "name": "ipython",
    "version": 3
   },
   "file_extension": ".py",
   "mimetype": "text/x-python",
   "name": "python",
   "nbconvert_exporter": "python",
   "pygments_lexer": "ipython3",
   "version": "3.9.7"
  }
 },
 "nbformat": 4,
 "nbformat_minor": 5
}
