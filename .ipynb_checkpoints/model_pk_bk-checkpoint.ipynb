{
 "cells": [
  {
   "cell_type": "code",
   "execution_count": 4,
   "id": "3f641235",
   "metadata": {},
   "outputs": [],
   "source": [
    "import numpy as np\n",
    "from matplotlib import pyplot as plt\n",
    "\n",
    "from classy import Class\n",
    "\n",
    "import initial\n",
    "import powerspec\n",
    "import bispec"
   ]
  },
  {
   "cell_type": "code",
   "execution_count": 5,
   "id": "c5e2cbe1",
   "metadata": {},
   "outputs": [],
   "source": [
    "# Cosmological parameters\n",
    "h = .676\n",
    "Omega_m = .31\n",
    "omega_b = .022\n",
    "sigma8_0 = .8\n",
    "n_s = .96\n",
    "m_ncdm = .06"
   ]
  },
  {
   "cell_type": "code",
   "execution_count": 6,
   "id": "0cd02674",
   "metadata": {},
   "outputs": [],
   "source": [
    "# CLASS cosmo\n",
    "params_cosmo = {\n",
    "    'output': 'tCl mPk',\n",
    "    'h': h,\n",
    "    'omega_b': omega_b,\n",
    "    'omega_cdm': Omega_m*h**2 - omega_b,\n",
    "    'n_s': n_s,\n",
    "    'm_ncdm': m_ncdm,\n",
    "    'N_ncdm': 1.,\n",
    "    'ln10^{10}A_s': 3.094,\n",
    "    'tau_reio': 0.0826026,\n",
    "    'N_ur': 2.,\n",
    "    'z_max_pk': 3.,\n",
    "    'P_k_max_h/Mpc': 50.,\n",
    "    }\n",
    "\n",
    "cosmo = Class()\n",
    "cosmo.set(params_cosmo)\n",
    "cosmo.compute()"
   ]
  },
  {
   "cell_type": "code",
   "execution_count": 7,
   "id": "9a7835e8",
   "metadata": {},
   "outputs": [],
   "source": [
    " #redshift\n",
    "z = 1.48"
   ]
  },
  {
   "cell_type": "code",
   "execution_count": 8,
   "id": "d6319139",
   "metadata": {},
   "outputs": [],
   "source": [
    "# Initial power spectra\n",
    "initial_cosmo = initial.InputPowerSpectrum(z, cosmo, params_fid=params_cosmo)\n",
    "initial_cosmo.calcMatterPowerSpectrum()\n",
    "initial_cosmo.calcPrimordialPowerSpectrum(params_cosmo['ln10^{10}A_s'], n_s)\n",
    "initial_cosmo.calcFiducialHubbleAndDiameterDistance()\n",
    "\n",
    "#hardcode: k_in = k_pri = np.logspace(np.log(2e-5), np.log(50), 500, base=np.e)\n",
    "k_in, pk_in = initial_cosmo.getMatterPowerSpectrum()\n",
    "k_pri, pk_pri = initial_cosmo.getPrimordialPowerSpectrum()"
   ]
  },
  {
   "cell_type": "code",
   "execution_count": 9,
   "id": "30467b5f",
   "metadata": {},
   "outputs": [],
   "source": [
    "alpha_perp = initial_cosmo.getAlphaPerp()\n",
    "alpha_parallel = initial_cosmo.getAlphaParallel()\n",
    "sigma8 = initial_cosmo.getSigma8z(sigma8_0)\n",
    "sigma8_norm = initial_cosmo.getSigma8ForNormalization()\n",
    "D_of_z = initial_cosmo.getGrowthFactor()\n",
    "f_of_z = initial_cosmo.getGrowthRate()\n",
    "\n",
    "params = {\n",
    "    'alpha_perp': alpha_perp,\n",
    "    'alpha_parallel': alpha_parallel,\n",
    "    'sigma8': sigma8,\n",
    "    'fz': f_of_z,\n",
    "    'b1': 2,\n",
    "    'b2': 0,\n",
    "    'b3': 0,\n",
    "    'bK2': 0,\n",
    "    'bK3': 0,\n",
    "    'bDK': 0,\n",
    "    'bO':  0,\n",
    "    }\n",
    "\n",
    "kbin = np.linspace(0.01, 0.3, 30)"
   ]
  },
  {
   "cell_type": "markdown",
   "id": "80f0af72",
   "metadata": {},
   "source": [
    "# Wiggle"
   ]
  },
  {
   "cell_type": "markdown",
   "id": "50657c4d",
   "metadata": {},
   "source": [
    "## Power spectrum"
   ]
  },
  {
   "cell_type": "code",
   "execution_count": 10,
   "id": "d9394bf1",
   "metadata": {},
   "outputs": [],
   "source": [
    "#Set power spectrum\n",
    "powerspectrum = powerspec.ClassPowerSpectrum()\n",
    "powerspectrum.set_params(params)\n",
    "powerspectrum.set_input_pk(k_in, pk_in)\n",
    "powerspectrum.set_normalization(sigma8_norm)"
   ]
  },
  {
   "cell_type": "code",
   "execution_count": 11,
   "id": "5b585519",
   "metadata": {},
   "outputs": [],
   "source": [
    "NAME = ['Tree','Tree_NoWiggle'] #cf list in powerspec.py or bispec.py\n",
    "ELL = [0,2,4] #multipoles\n",
    "color=['k','r']"
   ]
  },
  {
   "cell_type": "code",
   "execution_count": 12,
   "id": "2bd2889d",
   "metadata": {},
   "outputs": [
    {
     "data": {
      "text/plain": [
       "Text(0, 0.5, 'kP(k) $[h^{-1}.Mpc]^2$')"
      ]
     },
     "execution_count": 12,
     "metadata": {},
     "output_type": "execute_result"
    },
    {
     "data": {
      "image/png": "[encoded data removed]",
      "text/plain": [
       "<Figure size 432x288 with 1 Axes>"
      ]
     },
     "metadata": {
      "needs_background": "light"
     },
     "output_type": "display_data"
    }
   ],
   "source": [
    "#Compute power spectrum\n",
    "for n,name in enumerate(NAME):\n",
    "    for ell in ELL:\n",
    "        pk_dict = powerspectrum.calc_P(\n",
    "                name=name, kbin=kbin,\n",
    "                ELL=ell\n",
    "                )\n",
    "        plt.plot(pk_dict['kbin'],pk_dict['kbin']*pk_dict['P'],color=color[n])\n",
    "plt.xlabel('k $[h.Mpc^{-1}]$',fontsize=16)\n",
    "plt.ylabel('kP(k) $[h^{-1}.Mpc]^2$',fontsize=16)"
   ]
  },
  {
   "cell_type": "markdown",
   "id": "0ca58d11",
   "metadata": {},
   "source": [
    "## Bispectrum"
   ]
  },
  {
   "cell_type": "code",
   "execution_count": 13,
   "id": "d42e3e1d",
   "metadata": {},
   "outputs": [],
   "source": [
    "#Set bispectrum\n",
    "bispectrum = bispec.ClassBiSpectrum()\n",
    "bispectrum.set_params(params)\n",
    "bispectrum.set_input_pk(k_in, pk_in)\n",
    "bispectrum.set_normalization(sigma8_norm)"
   ]
  },
  {
   "cell_type": "code",
   "execution_count": null,
   "id": "fd4fc1ec",
   "metadata": {},
   "outputs": [
    {
     "name": "stdout",
     "output_type": "stream",
     "text": [
      "k1 =  0.01 h/Mpc\n",
      "k1 =  0.019999999999999997 h/Mpc\n",
      "k1 =  0.03 h/Mpc\n"
     ]
    }
   ],
   "source": [
    "#Compute bispectra\n",
    "bk_dict = {name:bispectrum.calc_B(name=name, kbin=kbin,ELL=0) for name in NAME}"
   ]
  },
  {
   "cell_type": "code",
   "execution_count": null,
   "id": "b16bdae0",
   "metadata": {},
   "outputs": [],
   "source": [
    "for n,name in enumerate(NAME):\n",
    "    B_diag = np.array([bk_dict[name]['B'][i,i] for i in range(len(kbin))])\n",
    "    plt.plot(kbin,kbin**2*B_diag,color=color[n])\n",
    "plt.xlabel('$k=k_1=k_2~[h.Mpc^{-1}]$',fontsize=16)\n",
    "plt.ylabel('$k^2B_{000}(k)~[h^{-1}.Mpc]^6$',fontsize=16)"
   ]
  },
  {
   "cell_type": "code",
   "execution_count": null,
   "id": "f66c7ba8",
   "metadata": {},
   "outputs": [],
   "source": [
    "for n,name in enumerate(NAME):\n",
    "    plt.plot(kbin,kbin**2*bk_dict[name]['B'][10,:],color=color[n])\n",
    "plt.xlabel('$k_2~[h.Mpc^{-1}]$',fontsize=16)\n",
    "plt.ylabel('$k_2^2B_{000}(k)~[h^{-1}.Mpc]^6$',fontsize=16)\n",
    "plt.text(.15,4e5,'$k_1=0.10~h.Mpc^{-1}$',fontsize=16)"
   ]
  },
  {
   "cell_type": "markdown",
   "id": "6d4b6094",
   "metadata": {},
   "source": [
    "# Reconstruction Bispectrum"
   ]
  },
  {
   "cell_type": "markdown",
   "id": "9346c9c0",
   "metadata": {},
   "source": [
    "Different flags must be activated according to the bispectrum (or power spectrum) calculated.\n",
    "\n",
    "The list of flags is in bispec.py with the additional parameters to include.\n",
    "\n",
    "Example below with the post-reconstruction bispectrum"
   ]
  },
  {
   "cell_type": "code",
   "execution_count": null,
   "id": "3b65dda9",
   "metadata": {},
   "outputs": [],
   "source": [
    "NAME = ['Tree','Tree_Reconstructed']"
   ]
  },
  {
   "cell_type": "code",
   "execution_count": null,
   "id": "85ed913f",
   "metadata": {},
   "outputs": [],
   "source": [
    "#Compute bispectrum\n",
    "bk_dict['Tree_Reconstructed'] = bispectrum.calc_B(\n",
    "    name='Tree_Reconstructed', kbin=kbin,ELL=0,flag_Recon=True,b1_fid=2,R=10)"
   ]
  },
  {
   "cell_type": "code",
   "execution_count": null,
   "id": "e6050c2a",
   "metadata": {},
   "outputs": [],
   "source": [
    "for n,name in enumerate(NAME):\n",
    "    B_diag = np.array([bk_dict[name]['B'][i,i] for i in range(len(kbin))])\n",
    "    plt.plot(kbin,kbin**2*B_diag,color=color[n])\n",
    "plt.xlabel('$k=k_1=k_2~[h.Mpc^{-1}]$',fontsize=16)\n",
    "plt.ylabel('$k^2B_{000}(k)~[h^{-1}.Mpc]^6$',fontsize=16)"
   ]
  },
  {
   "cell_type": "code",
   "execution_count": null,
   "id": "ade5f52a",
   "metadata": {},
   "outputs": [],
   "source": [
    "for n,name in enumerate(NAME):\n",
    "    plt.plot(kbin,kbin**2*bk_dict[name]['B'][10,:],color=color[n])\n",
    "plt.xlabel('$k_2~[h.Mpc^{-1}]$',fontsize=16)\n",
    "plt.ylabel('$k_2^2B_{000}(k)~[h^{-1}.Mpc]^6$',fontsize=16)\n",
    "plt.text(.15,2e5,'$k_1=0.10~h.Mpc^{-1}$',fontsize=16)"
   ]
  },
  {
   "cell_type": "code",
   "execution_count": null,
   "id": "e9eb927a",
   "metadata": {},
   "outputs": [],
   "source": []
  }
 ],
 "metadata": {
  "kernelspec": {
   "display_name": "Python 3 (ipykernel)",
   "language": "python",
   "name": "python3"
  },
  "language_info": {
   "codemirror_mode": {
    "name": "ipython",
    "version": 3
   },
   "file_extension": ".py",
   "mimetype": "text/x-python",
   "name": "python",
   "nbconvert_exporter": "python",
   "pygments_lexer": "ipython3",
   "version": "3.7.11"
  }
 },
 "nbformat": 4,
 "nbformat_minor": 5
}
