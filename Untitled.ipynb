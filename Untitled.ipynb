{
 "cells": [
  {
   "cell_type": "code",
   "execution_count": 1,
   "id": "03bf670a",
   "metadata": {},
   "outputs": [],
   "source": [
    "from matplotlib import pyplot as plt\n",
    "from classy import Class\n",
    "import initial\n",
    "import hitomipy"
   ]
  },
  {
   "cell_type": "code",
   "execution_count": 2,
   "id": "f5c40be8",
   "metadata": {},
   "outputs": [],
   "source": [
    "h = .676\n",
    "omega_b = 0.0481425*h**2\n",
    "omega_cdm = 0.31*h**2-omega_b\n",
    "n_s = .96\n",
    "params_cosmo = {'output': 'tCl mPk','z_max_pk': 3.,'P_k_max_h/Mpc': 50.,\n",
    "    'h':h, 'omega_b':omega_b, 'omega_cdm':omega_cdm, 'n_s':.96}"
   ]
  },
  {
   "cell_type": "code",
   "execution_count": 3,
   "id": "74495c53",
   "metadata": {},
   "outputs": [],
   "source": [
    "cosmo = Class()\n",
    "cosmo.set(params_cosmo)\n",
    "cosmo.compute()"
   ]
  },
  {
   "cell_type": "code",
   "execution_count": 4,
   "id": "a5ed447d",
   "metadata": {},
   "outputs": [],
   "source": [
    "initial_cosmo = initial.InputPowerSpectrum(.8, cosmo, params_fid=params_cosmo)\n",
    "initial_cosmo.calcMatterPowerSpectrum()\n",
    "k_in, pk_in = initial_cosmo.getMatterPowerSpectrum()\n",
    "\n",
    "pk_in_no_wiggle = initial_cosmo.getNoWigglePowerSpectrum()"
   ]
  },
  {
   "cell_type": "code",
   "execution_count": 5,
   "id": "49be0dda",
   "metadata": {
    "scrolled": true
   },
   "outputs": [
    {
     "data": {
      "text/plain": [
       "(0.01, 0.3)"
      ]
     },
     "execution_count": 5,
     "metadata": {},
     "output_type": "execute_result"
    },
    {
     "data": {
      "image/png": "[encoded data removed]",
      "text/plain": [
       "<Figure size 432x288 with 1 Axes>"
      ]
     },
     "metadata": {
      "needs_background": "light"
     },
     "output_type": "display_data"
    }
   ],
   "source": [
    "plt.plot(k_in,k_in*pk_in_no_wiggle)\n",
    "plt.xlim(.01,.3)"
   ]
  },
  {
   "cell_type": "code",
   "execution_count": 6,
   "id": "45b6560e",
   "metadata": {},
   "outputs": [
    {
     "data": {
      "text/plain": [
       "0"
      ]
     },
     "execution_count": 6,
     "metadata": {},
     "output_type": "execute_result"
    }
   ],
   "source": [
    "hitomipy.readInputNoWigglePowerSpectrum_py(k_in, pk_in_no_wiggle, len(k_in))"
   ]
  },
  {
   "cell_type": "code",
   "execution_count": 7,
   "id": "d6a25318",
   "metadata": {},
   "outputs": [],
   "source": [
    "hitomipy.calcNormalizationNoWiggle_py(1.0)"
   ]
  },
  {
   "cell_type": "code",
   "execution_count": null,
   "id": "2ce9b729",
   "metadata": {},
   "outputs": [],
   "source": []
  }
 ],
 "metadata": {
  "kernelspec": {
   "display_name": "Python 3 (ipykernel)",
   "language": "python",
   "name": "python3"
  },
  "language_info": {
   "codemirror_mode": {
    "name": "ipython",
    "version": 3
   },
   "file_extension": ".py",
   "mimetype": "text/x-python",
   "name": "python",
   "nbconvert_exporter": "python",
   "pygments_lexer": "ipython3",
   "version": "3.9.7"
  }
 },
 "nbformat": 4,
 "nbformat_minor": 5
}
